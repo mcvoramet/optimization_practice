{
 "cells": [
  {
   "cell_type": "code",
   "execution_count": 1,
   "metadata": {},
   "outputs": [],
   "source": [
    "Ti = [24, 9, 7, 14, 2]\n",
    "def fi(Ti):\n",
    "    fx = 4 - (((3-(Ti/1.6))*(0.5-(Ti/1.6))*(6.2-(Ti/1.6))*(2-(Ti/1.6)))/6)\n",
    "    return fx\n",
    "\n",
    "result = []\n",
    "for i in Ti:\n",
    "    result.append(fi(i))"
   ]
  },
  {
   "cell_type": "code",
   "execution_count": 2,
   "metadata": {},
   "outputs": [
    {
     "data": {
      "text/plain": [
       "[-3313.6000000000004,\n",
       " 8.673559570312502,\n",
       " 7.849015299479166,\n",
       " -132.086328125,\n",
       " 4.812109375]"
      ]
     },
     "execution_count": 2,
     "metadata": {},
     "output_type": "execute_result"
    }
   ],
   "source": [
    "result"
   ]
  },
  {
   "cell_type": "code",
   "execution_count": 3,
   "metadata": {},
   "outputs": [],
   "source": [
    "Fi = []\n",
    "for i in result:\n",
    "    Fi.append(1/(1+i))"
   ]
  },
  {
   "cell_type": "code",
   "execution_count": 4,
   "metadata": {},
   "outputs": [
    {
     "data": {
      "text/plain": [
       "[-0.00030187767916440254,\n",
       " 0.10337456369927489,\n",
       " 0.11300692406519602,\n",
       " -0.007628560615767877,\n",
       " 0.17205457356005108]"
      ]
     },
     "execution_count": 4,
     "metadata": {},
     "output_type": "execute_result"
    }
   ],
   "source": [
    "Fi"
   ]
  },
  {
   "cell_type": "code",
   "execution_count": 8,
   "metadata": {},
   "outputs": [],
   "source": [
    "Fi_sigmaFi = []\n",
    "j = 0\n",
    "sigmaFi = sum(Fi)\n",
    "for i in Fi:\n",
    "    Fi_sigmaFi.append(i/sigmaFi)\n",
    "    \n",
    "    "
   ]
  },
  {
   "cell_type": "code",
   "execution_count": 9,
   "metadata": {},
   "outputs": [
    {
     "data": {
      "text/plain": [
       "[-0.0007933593116465648,\n",
       " 0.2716768358801259,\n",
       " 0.29699146931242104,\n",
       " -0.02004848326558015,\n",
       " 0.45217353738467986]"
      ]
     },
     "execution_count": 9,
     "metadata": {},
     "output_type": "execute_result"
    }
   ],
   "source": [
    "Fi_sigmaFi"
   ]
  },
  {
   "cell_type": "code",
   "execution_count": 11,
   "metadata": {},
   "outputs": [],
   "source": [
    "sum_result = sum(result)\n",
    "fi_sumfi = []\n",
    "for i in result:\n",
    "    fi_sumfi.append(i/sum_result)"
   ]
  },
  {
   "cell_type": "code",
   "execution_count": 12,
   "metadata": {},
   "outputs": [
    {
     "data": {
      "text/plain": [
       "[0.9676576311670162,\n",
       " -0.002532905633629466,\n",
       " -0.002292117199326315,\n",
       " 0.03857265312137455,\n",
       " -0.001405261455434902]"
      ]
     },
     "execution_count": 12,
     "metadata": {},
     "output_type": "execute_result"
    }
   ],
   "source": [
    "fi_sumfi"
   ]
  },
  {
   "cell_type": "code",
   "execution_count": 14,
   "metadata": {},
   "outputs": [
    {
     "name": "stdout",
     "output_type": "stream",
     "text": [
      "0.9676576311670162\n",
      "0.9651247255333867\n",
      "0.9628326083340604\n",
      "1.001405261455435\n",
      "1.0\n"
     ]
    }
   ],
   "source": [
    "j = 0\n",
    "for i in fi_sumfi:\n",
    "    j += i\n",
    "    print(j)"
   ]
  },
  {
   "cell_type": "code",
   "execution_count": 15,
   "metadata": {},
   "outputs": [
    {
     "data": {
      "text/plain": [
       "False"
      ]
     },
     "execution_count": 15,
     "metadata": {},
     "output_type": "execute_result"
    }
   ],
   "source": []
  },
  {
   "cell_type": "code",
   "execution_count": null,
   "metadata": {},
   "outputs": [],
   "source": []
  }
 ],
 "metadata": {
  "kernelspec": {
   "display_name": "Python 3",
   "language": "python",
   "name": "python3"
  },
  "language_info": {
   "codemirror_mode": {
    "name": "ipython",
    "version": 3
   },
   "file_extension": ".py",
   "mimetype": "text/x-python",
   "name": "python",
   "nbconvert_exporter": "python",
   "pygments_lexer": "ipython3",
   "version": "3.8.5"
  }
 },
 "nbformat": 4,
 "nbformat_minor": 4
}
